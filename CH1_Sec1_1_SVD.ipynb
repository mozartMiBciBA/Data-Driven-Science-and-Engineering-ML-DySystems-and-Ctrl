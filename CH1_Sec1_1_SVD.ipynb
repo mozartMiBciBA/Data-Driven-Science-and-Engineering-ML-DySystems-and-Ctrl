{
  "nbformat": 4,
  "nbformat_minor": 0,
  "metadata": {
    "colab": {
      "provenance": [],
      "collapsed_sections": [],
      "authorship_tag": "ABX9TyOyV0MibAxVYWUA8HRzgEVN",
      "include_colab_link": true
    },
    "kernelspec": {
      "name": "python3",
      "display_name": "Python 3"
    },
    "language_info": {
      "name": "python"
    }
  },
  "cells": [
    {
      "cell_type": "markdown",
      "metadata": {
        "id": "view-in-github",
        "colab_type": "text"
      },
      "source": [
        "<a href=\"https://colab.research.google.com/github/mozartMiBciBA/Data-Driven-Science-and-Engineering-ML-DySystems-and-Ctrl/blob/main/CH1_Sec1_1_SVD.ipynb\" target=\"_parent\"><img src=\"https://colab.research.google.com/assets/colab-badge.svg\" alt=\"Open In Colab\"/></a>"
      ]
    },
    {
      "cell_type": "markdown",
      "source": [
        "Implementación de código del libro \"Data-Driven Science and Engineering: Machine Learning, Dynamical Systems, and Control\""
      ],
      "metadata": {
        "id": "nwRNfHMkI7RM"
      }
    },
    {
      "cell_type": "markdown",
      "source": [
        "Fuente1: http://databookuw.com/\n",
        "\n",
        "Fuente2: https://www.eigensteve.com/copy-of-publications\n",
        "\n",
        "Fuente3: http://databookuw.com/databook.pdf\n"
      ],
      "metadata": {
        "id": "7si6FI0oJQ4g"
      }
    },
    {
      "cell_type": "markdown",
      "source": [
        "In the sections below, we show how to use the SVD in python computational language"
      ],
      "metadata": {
        "id": "Xs0k7XZuijGZ"
      }
    },
    {
      "cell_type": "markdown",
      "source": [],
      "metadata": {
        "id": "rID2Da4lJOpa"
      }
    },
    {
      "cell_type": "code",
      "execution_count": 1,
      "metadata": {
        "id": "1b28Y4bYiV56"
      },
      "outputs": [],
      "source": [
        "import numpy as np"
      ]
    },
    {
      "cell_type": "code",
      "source": [
        "X = np.random.rand(5, 3) # create random data matrix\n",
        "U, S, V = np.linalg.svd(X,full_matrices=True) # full SVD\n",
        "Uhat, Shat, Vhat = np.linalg.svd(X, full_matrices=False) # economy SVD"
      ],
      "metadata": {
        "id": "0GijHPSzjjib"
      },
      "execution_count": 2,
      "outputs": []
    },
    {
      "cell_type": "code",
      "source": [
        "print(\"U\")\n",
        "print(U)\n",
        "print(\"S\")\n",
        "print(S)\n",
        "print(\"V\")\n",
        "print(V)"
      ],
      "metadata": {
        "colab": {
          "base_uri": "https://localhost:8080/"
        },
        "id": "5zO7WwuUjmZO",
        "outputId": "093b92e0-614a-4154-915f-cdfd9ee802f8"
      },
      "execution_count": 3,
      "outputs": [
        {
          "output_type": "stream",
          "name": "stdout",
          "text": [
            "U\n",
            "[[-0.27630801  0.19729792  0.4512591  -0.59739727 -0.56939365]\n",
            " [-0.54171153  0.47560222 -0.37126269  0.46539934 -0.35485012]\n",
            " [-0.48093196 -0.5591308  -0.54337232 -0.40000173  0.02867654]\n",
            " [-0.39203749 -0.54914105  0.54991959  0.48657609 -0.0747186 ]\n",
            " [-0.49519042  0.34740887  0.2467067  -0.17251747  0.73720217]]\n",
            "S\n",
            "[2.11185403 0.7915771  0.42181921]\n",
            "V\n",
            "[[-0.55614302 -0.58661045 -0.5887216 ]\n",
            " [ 0.3180227   0.50425002 -0.80286579]\n",
            " [ 0.76783234 -0.63373504 -0.09387969]]\n"
          ]
        }
      ]
    },
    {
      "cell_type": "markdown",
      "source": [
        "Economy SVD"
      ],
      "metadata": {
        "id": "vaqZWMiAkLxf"
      }
    },
    {
      "cell_type": "code",
      "source": [
        "print(\"Uhat\")\n",
        "print(Uhat)\n",
        "print(\"Shat\")\n",
        "print(Shat)\n",
        "print(\"Vhat\")\n",
        "print(Vhat)"
      ],
      "metadata": {
        "colab": {
          "base_uri": "https://localhost:8080/"
        },
        "id": "M-SGXIOTkYxM",
        "outputId": "02fd9fcb-fba1-4394-885e-5d63fc3e503d"
      },
      "execution_count": 4,
      "outputs": [
        {
          "output_type": "stream",
          "name": "stdout",
          "text": [
            "Uhat\n",
            "[[-0.27630801  0.19729792  0.4512591 ]\n",
            " [-0.54171153  0.47560222 -0.37126269]\n",
            " [-0.48093196 -0.5591308  -0.54337232]\n",
            " [-0.39203749 -0.54914105  0.54991959]\n",
            " [-0.49519042  0.34740887  0.2467067 ]]\n",
            "Shat\n",
            "[2.11185403 0.7915771  0.42181921]\n",
            "Vhat\n",
            "[[-0.55614302 -0.58661045 -0.5887216 ]\n",
            " [ 0.3180227   0.50425002 -0.80286579]\n",
            " [ 0.76783234 -0.63373504 -0.09387969]]\n"
          ]
        }
      ]
    }
  ]
}